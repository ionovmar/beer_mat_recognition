{
 "cells": [
  {
   "cell_type": "code",
   "execution_count": 1,
   "metadata": {
    "collapsed": true
   },
   "outputs": [],
   "source": [
    "import cv2\n",
    "import os\n",
    "import numpy as np\n",
    "from matplotlib import pyplot as plt\n",
    "from detector import Detector"
   ]
  },
  {
   "cell_type": "code",
   "execution_count": 2,
   "metadata": {
    "collapsed": false
   },
   "outputs": [],
   "source": [
    "# Get the path to the 'scans' directory using the current file's location\n",
    "script_directory = os.getcwd()\n",
    "scans_directory = os.path.join(script_directory, '..', 'data/scans')\n",
    "output_directory = os.path.join(script_directory, '..', 'data/outputs')\n",
    "\n",
    "# Specify the path to your .tif file\n",
    "file = '7b'\n",
    "tif_file_path = scans_directory + \"/\" + f\"{file}.tif\"\n",
    "filename_4_saving = output_directory + \"/\" + f\"{file}.png\"\n",
    "\n",
    "# Read the .tif file\n",
    "image = cv2.imread(tif_file_path, cv2.IMREAD_UNCHANGED)\n",
    "MIN_AREA = 2000\n",
    "MAX_AREA = 1000000\n",
    " \n",
    "scale_factor = {'x': 0.4, 'y': 0.4}\n",
    "image = cv2.resize(image, None, fx=scale_factor['x'], fy=scale_factor['y'])\n",
    "grayImage = cv2.cvtColor(image, cv2.COLOR_BGR2GRAY)\n",
    "\n",
    "def show(image, name='Result'):\n",
    "    cv2.namedWindow(name, cv2.WINDOW_NORMAL)\n",
    "    cv2.imshow(name, image)\n",
    "    cv2.waitKey(0)\n",
    "    cv2.destroyAllWindows()"
   ]
  },
  {
   "cell_type": "code",
   "execution_count": 3,
   "metadata": {},
   "outputs": [
    {
     "ename": "error",
     "evalue": "OpenCV(4.6.0) /croot/opencv-suite_1691620365762/work/modules/imgproc/src/smooth.dispatch.cpp:293: error: (-215:Assertion failed) ksize.width > 0 && ksize.width % 2 == 1 && ksize.height > 0 && ksize.height % 2 == 1 in function 'createGaussianKernels'\n",
     "output_type": "error",
     "traceback": [
      "\u001B[0;31m---------------------------------------------------------------------------\u001B[0m",
      "\u001B[0;31merror\u001B[0m                                     Traceback (most recent call last)",
      "Cell \u001B[0;32mIn[3], line 3\u001B[0m\n\u001B[1;32m      1\u001B[0m \u001B[38;5;66;03m# Provide morphological operations and find edges\u001B[39;00m\n\u001B[1;32m      2\u001B[0m gray \u001B[38;5;241m=\u001B[39m cv2\u001B[38;5;241m.\u001B[39mcvtColor(image, cv2\u001B[38;5;241m.\u001B[39mCOLOR_BGR2GRAY)\n\u001B[0;32m----> 3\u001B[0m blurred \u001B[38;5;241m=\u001B[39m \u001B[43mcv2\u001B[49m\u001B[38;5;241;43m.\u001B[39;49m\u001B[43mGaussianBlur\u001B[49m\u001B[43m(\u001B[49m\u001B[43mgray\u001B[49m\u001B[43m,\u001B[49m\u001B[43m \u001B[49m\u001B[43m(\u001B[49m\u001B[38;5;241;43m4\u001B[39;49m\u001B[43m,\u001B[49m\u001B[43m \u001B[49m\u001B[38;5;241;43m4\u001B[39;49m\u001B[43m)\u001B[49m\u001B[43m,\u001B[49m\u001B[43m \u001B[49m\u001B[38;5;241;43m0\u001B[39;49m\u001B[43m)\u001B[49m\n\u001B[1;32m      4\u001B[0m edged \u001B[38;5;241m=\u001B[39m cv2\u001B[38;5;241m.\u001B[39mCanny(blurred, \u001B[38;5;241m10\u001B[39m, \u001B[38;5;241m100\u001B[39m)\n\u001B[1;32m      6\u001B[0m \u001B[38;5;66;03m# Define a (3, 3) structuring element\u001B[39;00m\n",
      "\u001B[0;31merror\u001B[0m: OpenCV(4.6.0) /croot/opencv-suite_1691620365762/work/modules/imgproc/src/smooth.dispatch.cpp:293: error: (-215:Assertion failed) ksize.width > 0 && ksize.width % 2 == 1 && ksize.height > 0 && ksize.height % 2 == 1 in function 'createGaussianKernels'\n"
     ]
    }
   ],
   "source": [
    "\n",
    "# Provide morphological operations and find edges\n",
    "gray = cv2.cvtColor(image, cv2.COLOR_BGR2GRAY)\n",
    "blurred = cv2.GaussianBlur(gray, (4, 4), 0)\n",
    "edged = cv2.Canny(blurred, 10, 100)\n",
    "\n",
    "# Define a (3, 3) structuring element\n",
    "kernel = cv2.getStructuringElement(cv2.MORPH_RECT, (3, 3))\n",
    "\n",
    "# Apply the dilation operation to the edged image\n",
    "dilate = cv2.dilate(edged, kernel, iterations=1)"
   ]
  },
  {
   "cell_type": "code",
   "execution_count": 4,
   "metadata": {},
   "outputs": [
    {
     "ename": "NameError",
     "evalue": "name 'dilate' is not defined",
     "output_type": "error",
     "traceback": [
      "\u001B[0;31m---------------------------------------------------------------------------\u001B[0m",
      "\u001B[0;31mNameError\u001B[0m                                 Traceback (most recent call last)",
      "Cell \u001B[0;32mIn[4], line 2\u001B[0m\n\u001B[1;32m      1\u001B[0m \u001B[38;5;66;03m# Contours detection\u001B[39;00m\n\u001B[0;32m----> 2\u001B[0m contours, hierarchy \u001B[38;5;241m=\u001B[39m cv2\u001B[38;5;241m.\u001B[39mfindContours(\u001B[43mdilate\u001B[49m, cv2\u001B[38;5;241m.\u001B[39mRETR_EXTERNAL, cv2\u001B[38;5;241m.\u001B[39mCHAIN_APPROX_SIMPLE)\n\u001B[1;32m      3\u001B[0m image_copy \u001B[38;5;241m=\u001B[39m image\u001B[38;5;241m.\u001B[39mcopy()\n\u001B[1;32m      4\u001B[0m borders \u001B[38;5;241m=\u001B[39m []\n",
      "\u001B[0;31mNameError\u001B[0m: name 'dilate' is not defined"
     ]
    }
   ],
   "source": [
    "# Contours detection\n",
    "contours, hierarchy = cv2.findContours(dilate, cv2.RETR_EXTERNAL, cv2.CHAIN_APPROX_SIMPLE)\n",
    "image_copy = image.copy()\n",
    "borders = []\n",
    "# Contours drawing\n",
    "for cnt in contours:\n",
    "    # Get the 4 points of the bounding rectangle\n",
    "    x, y, w, h = cv2.boundingRect(cnt)\n",
    "    # if MIN_AREA < w * h < MAX_AREA:\n",
    "        # Draw a straight rectangle with the points\n",
    "    cv2.rectangle(image_copy, (x, y), (x + w, y + h), color=(255, 0, 0), thickness=2)\n",
    "    borders.append([x, y, w, h])"
   ]
  },
  {
   "cell_type": "code",
   "execution_count": 5,
   "metadata": {},
   "outputs": [],
   "source": [
    "show(dilate)"
   ]
  },
  {
   "cell_type": "code",
   "execution_count": 6,
   "metadata": {
    "collapsed": false
   },
   "outputs": [],
   "source": [
    "# https://www.fypsolutions.com/opencv-python/findcontours-opencv-python-drawcontours-opencv-python/\n",
    "gray = cv2.GaussianBlur(grayImage, (7, 7), 0) # 7\n",
    "gray= cv2.medianBlur(gray, 3)   #to remove salt and paper noise\n",
    "#to binary\n",
    "ret,thresh = cv2.threshold(gray,190,255,0)  #to detect white objects\n",
    "#to get outer boundery only\n",
    "kernel = np.ones((2,2),np.uint8)\n",
    "thresh = cv2.morphologyEx(thresh, cv2.MORPH_GRADIENT, kernel)\n",
    "#to strength week pixels\n",
    "thresh = cv2.dilate(thresh,kernel,iterations = 5)"
   ]
  },
  {
   "cell_type": "code",
   "execution_count": 28,
   "metadata": {
    "collapsed": false
   },
   "outputs": [],
   "source": [
    "def preprocessing(image):\n",
    "    gray = cv2.cvtColor(image, cv2.COLOR_BGR2GRAY)\n",
    "    show(gray, 'gray')\n",
    "    # blurred = cv2.GaussianBlur(gray, (3, 3), 0)\n",
    "    edged = cv2.Canny(input=gray, edged=50, threshold1=100, threshold2=1, L2radient=True)\n",
    "    show(edged, 'edged')\n",
    "\n",
    "    # define a (3, 3) structuring element\n",
    "    kernel = cv2.getStructuringElement(cv2.MORPH_RECT, (2, 2))\n",
    "\n",
    "    # apply the dilation operation to the edged image\n",
    "    dilate = cv2.dilate(edged, kernel, iterations=2) # init 1\n",
    "    show(dilate, 'dilate')\n",
    "    return dilate"
   ]
  },
  {
   "cell_type": "code",
   "execution_count": 6,
   "metadata": {
    "collapsed": false
   },
   "outputs": [],
   "source": [
    "def find_contours(image, dilate):\n",
    "    # contours detection\n",
    "    contours,hierarchy = cv2.findContours(dilate, cv2.RETR_EXTERNAL, cv2.CHAIN_APPROX_SIMPLE)\n",
    "    image_4_plot = image.copy()\n",
    "    areas = []\n",
    "    crop_offset = 3\n",
    "    for cnt in contours:\n",
    "        # Get the 4 points of the bounding rectangle\n",
    "        x, y, w, h = cv2.boundingRect(cnt)\n",
    "        if w*h>20000:\n",
    "            # Draw a straight rectangle with the points\n",
    "            img_box = cv2.rectangle(image_4_plot, (x, y), (x+w, y+h), color = (255, 0, 0), thickness = 2)\n",
    "            areas.append([x, y, w, h])\n",
    "    show(image_4_plot, 'Contours')\n",
    "    return image_4_plot, contours, areas\n",
    "\n",
    "def crop(image, areas):\n",
    "    mats = []\n",
    "    crop_offset = 3\n",
    "    for area in areas:\n",
    "        # Cropping an image\n",
    "        x, y, w, h = area\n",
    "        cropped_image = image[y-crop_offset:(y+h+crop_offset), x-crop_offset:(x+w+crop_offset)]\n",
    "        mats.append(cropped_image)\n",
    "        show(cropped_image, 'Crop')\n",
    "    return mats\n",
    "# cv2.imwrite(filename_4_saving, image_4_plot)"
   ]
  },
  {
   "cell_type": "code",
   "execution_count": null,
   "metadata": {
    "collapsed": false
   },
   "outputs": [],
   "source": [
    "for i, mat in enumerate(mats):\n",
    "    cv2.imwrite(output_directory + \"/\" + f\"{file}_{i}.png\", mat)"
   ]
  },
  {
   "cell_type": "code",
   "execution_count": 29,
   "metadata": {
    "collapsed": false
   },
   "outputs": [
    {
     "ename": "error",
     "evalue": "OpenCV(4.6.0) :-1: error: (-5:Bad argument) in function 'Canny'\n> Overload resolution failed:\n>  - Canny() missing required argument 'image' (pos 1)\n>  - Canny() missing required argument 'image' (pos 1)\n>  - Canny() missing required argument 'dx' (pos 1)\n>  - Canny() missing required argument 'dx' (pos 1)\n",
     "output_type": "error",
     "traceback": [
      "\u001B[0;31m---------------------------------------------------------------------------\u001B[0m",
      "\u001B[0;31merror\u001B[0m                                     Traceback (most recent call last)",
      "Cell \u001B[0;32mIn[29], line 1\u001B[0m\n\u001B[0;32m----> 1\u001B[0m dilate \u001B[38;5;241m=\u001B[39m \u001B[43mpreprocessing\u001B[49m\u001B[43m(\u001B[49m\u001B[43mimage\u001B[49m\u001B[43m)\u001B[49m\n\u001B[1;32m      2\u001B[0m img, contours, areas \u001B[38;5;241m=\u001B[39m find_contours(image, dilate)\n\u001B[1;32m      3\u001B[0m mats \u001B[38;5;241m=\u001B[39m crop(image, areas)\n",
      "Cell \u001B[0;32mIn[28], line 5\u001B[0m, in \u001B[0;36mpreprocessing\u001B[0;34m(image)\u001B[0m\n\u001B[1;32m      3\u001B[0m show(gray, \u001B[38;5;124m'\u001B[39m\u001B[38;5;124mgray\u001B[39m\u001B[38;5;124m'\u001B[39m)\n\u001B[1;32m      4\u001B[0m \u001B[38;5;66;03m# blurred = cv2.GaussianBlur(gray, (3, 3), 0)\u001B[39;00m\n\u001B[0;32m----> 5\u001B[0m edged \u001B[38;5;241m=\u001B[39m \u001B[43mcv2\u001B[49m\u001B[38;5;241;43m.\u001B[39;49m\u001B[43mCanny\u001B[49m\u001B[43m(\u001B[49m\u001B[38;5;28;43minput\u001B[39;49m\u001B[38;5;241;43m=\u001B[39;49m\u001B[43mgray\u001B[49m\u001B[43m,\u001B[49m\u001B[43m \u001B[49m\u001B[43medged\u001B[49m\u001B[38;5;241;43m=\u001B[39;49m\u001B[38;5;241;43m50\u001B[39;49m\u001B[43m,\u001B[49m\u001B[43m \u001B[49m\u001B[43mthreshold1\u001B[49m\u001B[38;5;241;43m=\u001B[39;49m\u001B[38;5;241;43m100\u001B[39;49m\u001B[43m,\u001B[49m\u001B[43m \u001B[49m\u001B[43mthreshold2\u001B[49m\u001B[38;5;241;43m=\u001B[39;49m\u001B[38;5;241;43m1\u001B[39;49m\u001B[43m,\u001B[49m\u001B[43m \u001B[49m\u001B[43mL2radient\u001B[49m\u001B[38;5;241;43m=\u001B[39;49m\u001B[38;5;28;43;01mTrue\u001B[39;49;00m\u001B[43m)\u001B[49m\n\u001B[1;32m      6\u001B[0m show(edged, \u001B[38;5;124m'\u001B[39m\u001B[38;5;124medged\u001B[39m\u001B[38;5;124m'\u001B[39m)\n\u001B[1;32m      8\u001B[0m \u001B[38;5;66;03m# define a (3, 3) structuring element\u001B[39;00m\n",
      "\u001B[0;31merror\u001B[0m: OpenCV(4.6.0) :-1: error: (-5:Bad argument) in function 'Canny'\n> Overload resolution failed:\n>  - Canny() missing required argument 'image' (pos 1)\n>  - Canny() missing required argument 'image' (pos 1)\n>  - Canny() missing required argument 'dx' (pos 1)\n>  - Canny() missing required argument 'dx' (pos 1)\n"
     ]
    }
   ],
   "source": [
    "dilate = preprocessing(image)\n",
    "img, contours, areas = find_contours(image, dilate)\n",
    "mats = crop(image, areas)\n",
    "\n",
    "# show(mats[0], 'Mat')\n",
    "# dilate1 = preprocessing(mats[0])\n",
    "# img1, contours1, areas1 = find_contours(mats[0], dilate1)\n",
    "# show(img1)\n",
    "\n",
    "\n",
    "img_copy = image.copy()\n",
    "crop_offset = 3\n",
    "cropped_images = []\n",
    "for cnt in contours:\n",
    "    area = cv2.contourArea(cnt)\n",
    "    if area > 100000:\n",
    "        # Detect the convex contour\n",
    "        hull = cv2.convexHull(cnt)\n",
    "        img_hull = cv2.drawContours(img_copy, contours = [hull],\n",
    "                                    contourIdx = 0,\n",
    "                                    color = (255, 0, 0), thickness = 2)\n",
    "        # Created a new mask and used bitwise_and to select for contours:\n",
    "        mask = np.ones_like(img_copy[:, :, 0], dtype=np.uint8)\n",
    "        cv2.drawContours(mask, [hull], -1, 0, -1)\n",
    "\n",
    "        # Create a white image of the same size as the original image\n",
    "        white_image = np.ones_like(image) * 255\n",
    "\n",
    "        # Apply the mask: where mask is 0, use white_image; where mask is 1, use the original image\n",
    "        masked_image = np.where(mask[:, :, np.newaxis] == 1, white_image, image)\n",
    "\n",
    "        # Cropping an image\n",
    "        x, y, w, h = cv2.boundingRect(cnt)\n",
    "        cropped_image = masked_image[y-crop_offset:(y+h+crop_offset), x-crop_offset:(x+w+crop_offset)]\n",
    "        cropped_images.append(cropped_image)\n",
    "        show(cropped_image)\n",
    "# show(img_copy)"
   ]
  },
  {
   "cell_type": "code",
   "execution_count": 23,
   "outputs": [],
   "source": [
    "dilate1 = preprocessing(cropped_images[0])\n",
    "img1, contours1, areas1 = find_contours(cropped_images[0], dilate1)\n",
    "# show(img1)\n",
    "\n",
    "img1_copy = img1.copy()\n",
    "\n",
    "for cnt in contours1:\n",
    "    area = cv2.contourArea(cnt)\n",
    "    if area > 100000:\n",
    "        # Detect the convex contour\n",
    "        hull = cv2.convexHull(cnt)\n",
    "        img_hull = cv2.drawContours(img1_copy, contours = [hull],\n",
    "                                    contourIdx = 0,\n",
    "                                    color = (255, 0, 0), thickness = 2)\n",
    "        # Created a new mask and used bitwise_and to select for contours:\n",
    "        # mask = np.ones_like(img1_copy[:, :, 0], dtype=np.uint8)\n",
    "        # cv2.drawContours(mask, [hull], -1, 0, -1)\n",
    "        #\n",
    "        # # Create a white image of the same size as the original image\n",
    "        # white_image = np.ones_like(img1) * 255\n",
    "        #\n",
    "        # # Apply the mask: where mask is 0, use white_image; where mask is 1, use the original image\n",
    "        # masked_image = np.where(mask[:, :, np.newaxis] == 1, white_image, img1)\n",
    "        #\n",
    "        # # Cropping an image\n",
    "        # x, y, w, h = cv2.boundingRect(cnt)\n",
    "        # cropped_image = masked_image[y-crop_offset:(y+h+crop_offset), x-crop_offset:(x+w+crop_offset)]\n",
    "        # cropped_images.append(cropped_image)\n",
    "        show(img_hull)"
   ],
   "metadata": {
    "collapsed": false
   }
  },
  {
   "cell_type": "code",
   "execution_count": null,
   "metadata": {
    "collapsed": false
   },
   "outputs": [],
   "source": [
    "cv2.contorArea(contours)"
   ]
  },
  {
   "cell_type": "code",
   "execution_count": 26,
   "outputs": [
    {
     "ename": "error",
     "evalue": "OpenCV(4.6.0) :-1: error: (-5:Bad argument) in function 'convexHull'\n> Overload resolution failed:\n>  - points is not a numerical tuple\n>  - Expected Ptr<cv::UMat> for argument 'points'\n",
     "output_type": "error",
     "traceback": [
      "\u001B[0;31m---------------------------------------------------------------------------\u001B[0m",
      "\u001B[0;31merror\u001B[0m                                     Traceback (most recent call last)",
      "Cell \u001B[0;32mIn[26], line 3\u001B[0m\n\u001B[1;32m      1\u001B[0m \u001B[38;5;66;03m# contours = max(contours, key = lambda x: cv2.contourArea(x))\u001B[39;00m\n\u001B[1;32m      2\u001B[0m \u001B[38;5;66;03m# Created a new mask and used bitwise_and to select for contours:\u001B[39;00m\n\u001B[0;32m----> 3\u001B[0m hull \u001B[38;5;241m=\u001B[39m \u001B[43mcv2\u001B[49m\u001B[38;5;241;43m.\u001B[39;49m\u001B[43mconvexHull\u001B[49m\u001B[43m(\u001B[49m\u001B[43mcontours\u001B[49m\u001B[43m)\u001B[49m\n\u001B[1;32m      4\u001B[0m mask \u001B[38;5;241m=\u001B[39m np\u001B[38;5;241m.\u001B[39mzeros_like(image)\n\u001B[1;32m      5\u001B[0m cv2\u001B[38;5;241m.\u001B[39mdrawContours(mask, [hull], \u001B[38;5;241m-\u001B[39m\u001B[38;5;241m1\u001B[39m, (\u001B[38;5;241m255\u001B[39m, \u001B[38;5;241m255\u001B[39m, \u001B[38;5;241m255\u001B[39m), \u001B[38;5;241m-\u001B[39m\u001B[38;5;241m1\u001B[39m)\n",
      "\u001B[0;31merror\u001B[0m: OpenCV(4.6.0) :-1: error: (-5:Bad argument) in function 'convexHull'\n> Overload resolution failed:\n>  - points is not a numerical tuple\n>  - Expected Ptr<cv::UMat> for argument 'points'\n"
     ]
    }
   ],
   "source": [
    "# contours = max(contours, key = lambda x: cv2.contourArea(x))\n",
    "# Created a new mask and used bitwise_and to select for contours:\n",
    "hull = cv2.convexHull(contours)\n",
    "mask = np.zeros_like(image)\n",
    "cv2.drawContours(mask, [hull], -1, (255, 255, 255), -1)\n",
    "masked_image = cv2.bitwise_and(image, mask)\n",
    "show(masked_image)"
   ],
   "metadata": {
    "collapsed": false
   }
  },
  {
   "cell_type": "code",
   "execution_count": 25,
   "metadata": {
    "collapsed": false
   },
   "outputs": [],
   "source": [
    "# ret , thrash = cv2.threshold(grayImage, 226 , 255, cv2.CHAIN_APPROX_NONE)\n",
    "contours , hierarchy = cv2.findContours(thresh, cv2.RETR_EXTERNAL, cv2.CHAIN_APPROX_SIMPLE)\n",
    "image_4_plot = image.copy()\n",
    "for contour in contours:\n",
    "    area = cv2.contourArea(contour)\n",
    "    if area>150000:\n",
    "        print(area)\n",
    "        approx = cv2.approxPolyDP(contour, 0.01* cv2.arcLength(contour, True), True)\n",
    "        cv2.drawContours(image_4_plot, [approx], 0, (255, 0, 0), 2)\n",
    "        x = approx.ravel()[0]\n",
    "        y = approx.ravel()[1] - 5\n",
    "\n",
    "        if len(approx) == 3:\n",
    "            cv2.putText(image_4_plot, \"Triangle\", (x, y), cv2.FONT_HERSHEY_COMPLEX, 0.5, (0, 0, 0) )\n",
    "        elif len(approx) == 4 :\n",
    "            x, y , w, h = cv2.boundingRect(approx)\n",
    "            aspectRatio = float(w)/h\n",
    "            print(aspectRatio)\n",
    "            if aspectRatio >= 0.95 and aspectRatio < 1.05:\n",
    "                cv2.putText(image_4_plot, \"square\", (x, y), cv2.FONT_HERSHEY_COMPLEX, 0.5, (0, 0, 0))\n",
    "\n",
    "            else:\n",
    "                cv2.putText(image_4_plot, \"rectangle\", (x, y), cv2.FONT_HERSHEY_COMPLEX, 0.5, (0, 0, 0))\n",
    "\n",
    "        elif len(approx) == 5 :\n",
    "            cv2.putText(image_4_plot, \"pentagon\", (x, y), cv2.FONT_HERSHEY_COMPLEX, 0.5, (0, 0, 0))\n",
    "        elif len(approx) == 10 :\n",
    "            cv2.putText(image_4_plot, \"star\", (x, y), cv2.FONT_HERSHEY_COMPLEX, 0.5, (0, 0, 0))\n",
    "        else:\n",
    "            cv2.putText(image_4_plot, \"circle\", (x, y), cv2.FONT_HERSHEY_COMPLEX, 0.5, (0, 0, 0))\n",
    "\n",
    "cv2.imshow('shapes', image_4_plot)\n",
    "cv2.waitKey(0)\n",
    "cv2.destroyAllWindows()"
   ]
  },
  {
   "cell_type": "code",
   "execution_count": 28,
   "metadata": {
    "collapsed": false
   },
   "outputs": [],
   "source": [
    "def nothing(x):pass\n",
    "\n",
    "\n",
    "cv2.namedWindow('videoUI', cv2.WINDOW_NORMAL)\n",
    "cv2.createTrackbar('T','videoUI',0,255,nothing)\n",
    "\n",
    "while(True):\n",
    "    # vid_gray = cv2.cvtColor(grayImage, cv2.COLOR_BGR2GRAY)\n",
    "    thresh = cv2.getTrackbarPos('T','videoUI')\n",
    "    ret,thresh = cv2.threshold(gray,thresh,255,0)  #to detect white objects\n",
    "    #to get outer boundery only\n",
    "    kernel = np.ones((2,2),np.uint8)\n",
    "    thresh = cv2.morphologyEx(thresh, cv2.MORPH_GRADIENT, kernel)\n",
    "    #to strength week pixels\n",
    "    thresh = cv2.dilate(thresh,kernel,iterations = 5)\n",
    "    # vid_bw = cv2.threshold(grayImage, thresh, 255, cv2.THRESH_BINARY)[1]\n",
    "\n",
    "    cv2.imshow('videoUI',cv2.flip(thresh,1))\n",
    "\n",
    "    if cv2.waitKey(0) & 0xFF == ord('q'):\n",
    "        cv2.destroyAllWindows()\n",
    "        break\n"
   ]
  },
  {
   "cell_type": "code",
   "execution_count": null,
   "outputs": [],
   "source": [],
   "metadata": {
    "collapsed": false
   }
  }
 ],
 "metadata": {
  "kernelspec": {
   "display_name": "Python 3",
   "language": "python",
   "name": "python3"
  },
  "language_info": {
   "codemirror_mode": {
    "name": "ipython",
    "version": 3
   },
   "file_extension": ".py",
   "mimetype": "text/x-python",
   "name": "python",
   "nbconvert_exporter": "python",
   "pygments_lexer": "ipython3",
   "version": "3.1.undefined"
  }
 },
 "nbformat": 4,
 "nbformat_minor": 0
}
